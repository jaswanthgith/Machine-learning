{
 "cells": [
  {
   "cell_type": "markdown",
   "id": "f779020a",
   "metadata": {},
   "source": [
    "# <center> Data Types <center>"
   ]
  },
  {
   "cell_type": "markdown",
   "id": "e7f500c8",
   "metadata": {},
   "source": [
    "## Task 1 & 2"
   ]
  },
  {
   "cell_type": "code",
   "execution_count": 1,
   "id": "cffff403",
   "metadata": {},
   "outputs": [
    {
     "data": {
      "text/plain": [
       "True"
      ]
     },
     "execution_count": 1,
     "metadata": {},
     "output_type": "execute_result"
    }
   ],
   "source": [
    "# given a string for example\n",
    "str1 = \"Welcome to python\"\n",
    "\n",
    "# check if \"to\" is present in \"welcome to python\"\n",
    "'to' in str1"
   ]
  },
  {
   "cell_type": "markdown",
   "id": "583be3af",
   "metadata": {},
   "source": [
    "# <center> List <center>"
   ]
  },
  {
   "cell_type": "markdown",
   "id": "64d8e878",
   "metadata": {},
   "source": [
    "## Task-3.1\n",
    "go through other inbuilt methods like remove(),count(),clear(),sort(),reverse()"
   ]
  },
  {
   "cell_type": "code",
   "execution_count": 2,
   "id": "88861372",
   "metadata": {},
   "outputs": [],
   "source": [
    "list1 = [1,2,3,4,3,4,3,2,1,6,7]"
   ]
  },
  {
   "cell_type": "code",
   "execution_count": 3,
   "id": "c6927156",
   "metadata": {},
   "outputs": [
    {
     "data": {
      "text/plain": [
       "[1, 2, 3, 4, 3, 4, 3, 2, 1, 7]"
      ]
     },
     "execution_count": 3,
     "metadata": {},
     "output_type": "execute_result"
    }
   ],
   "source": [
    "# remove()\n",
    "\n",
    "list1.remove(6)\n",
    "list1"
   ]
  },
  {
   "cell_type": "code",
   "execution_count": 4,
   "id": "65037669",
   "metadata": {},
   "outputs": [
    {
     "data": {
      "text/plain": [
       "3"
      ]
     },
     "execution_count": 4,
     "metadata": {},
     "output_type": "execute_result"
    }
   ],
   "source": [
    "# Count() --> To count the number of occurances\n",
    "\n",
    "list1.count(3)"
   ]
  },
  {
   "cell_type": "code",
   "execution_count": 5,
   "id": "eacef090",
   "metadata": {},
   "outputs": [
    {
     "data": {
      "text/plain": [
       "[1, 1, 2, 2, 3, 3, 3, 4, 4, 7]"
      ]
     },
     "execution_count": 5,
     "metadata": {},
     "output_type": "execute_result"
    }
   ],
   "source": [
    "# sort()--> To sort in ascending or descending order.\n",
    "\n",
    "list1.sort()\n",
    "list1"
   ]
  },
  {
   "cell_type": "code",
   "execution_count": 6,
   "id": "1c9e4973",
   "metadata": {},
   "outputs": [
    {
     "data": {
      "text/plain": [
       "[7, 4, 4, 3, 3, 3, 2, 2, 1, 1]"
      ]
     },
     "execution_count": 6,
     "metadata": {},
     "output_type": "execute_result"
    }
   ],
   "source": [
    "list1.sort(reverse=True) # sorting in reverse\n",
    "list1"
   ]
  },
  {
   "cell_type": "code",
   "execution_count": 7,
   "id": "20a5933a",
   "metadata": {},
   "outputs": [
    {
     "data": {
      "text/plain": [
       "[]"
      ]
     },
     "execution_count": 7,
     "metadata": {},
     "output_type": "execute_result"
    }
   ],
   "source": [
    "# clear() ---> To empty the list\n",
    "list1.clear()\n",
    "list1"
   ]
  },
  {
   "cell_type": "markdown",
   "id": "9fefb38a",
   "metadata": {},
   "source": [
    "## Task-3.2\n",
    "Create a list of length = 10 and access 5th to 8th data."
   ]
  },
  {
   "cell_type": "code",
   "execution_count": 8,
   "id": "33ff5d3d",
   "metadata": {},
   "outputs": [
    {
     "name": "stdout",
     "output_type": "stream",
     "text": [
      "[1, 2, 3, 4, 5, 6, 7, 8, 9, 10]\n",
      "10\n",
      "<class 'list'>\n"
     ]
    }
   ],
   "source": [
    "list1= [1,2,3,4,5,6,7,8,9,10]\n",
    "print(list1)\n",
    "print(len(list1))\n",
    "print(type(list1))"
   ]
  },
  {
   "cell_type": "code",
   "execution_count": 9,
   "id": "09291b62",
   "metadata": {},
   "outputs": [
    {
     "data": {
      "text/plain": [
       "5"
      ]
     },
     "execution_count": 9,
     "metadata": {},
     "output_type": "execute_result"
    }
   ],
   "source": [
    "# accessing 5th data\n",
    "list1[4]"
   ]
  },
  {
   "cell_type": "code",
   "execution_count": 10,
   "id": "0e3512a5",
   "metadata": {},
   "outputs": [
    {
     "data": {
      "text/plain": [
       "8"
      ]
     },
     "execution_count": 10,
     "metadata": {},
     "output_type": "execute_result"
    }
   ],
   "source": [
    "# acessing 8th data\n",
    "list1[7]"
   ]
  },
  {
   "cell_type": "markdown",
   "id": "6441df6c",
   "metadata": {},
   "source": [
    "## Task-4\n",
    "2 problems!"
   ]
  },
  {
   "cell_type": "code",
   "execution_count": 11,
   "id": "742de44a",
   "metadata": {},
   "outputs": [
    {
     "name": "stdout",
     "output_type": "stream",
     "text": [
      "[10, 20, [30, 40, [50, 60], 80], 90, 100]\n",
      "<class 'list'>\n"
     ]
    }
   ],
   "source": [
    "#Add item 70 after 60 in the following Python List\n",
    "#input\n",
    "l1 = [10, 20, [30, 40, [50, 60], 80], 90, 100]\n",
    "print(l1)\n",
    "print(type(l1))\n",
    "#output\n",
    "#[10, 20, [30, 40, [50, 60, 70], 80], 90, 100]"
   ]
  },
  {
   "cell_type": "code",
   "execution_count": 12,
   "id": "b6560355",
   "metadata": {},
   "outputs": [],
   "source": [
    "l1[2][2].append(70)"
   ]
  },
  {
   "cell_type": "code",
   "execution_count": 13,
   "id": "b1efbd87",
   "metadata": {},
   "outputs": [
    {
     "name": "stdout",
     "output_type": "stream",
     "text": [
      "[10, 20, [30, 40, [50, 60, 70], 80], 90, 100]\n"
     ]
    }
   ],
   "source": [
    "print(l1)"
   ]
  },
  {
   "cell_type": "code",
   "execution_count": 14,
   "id": "35a6d4c3",
   "metadata": {},
   "outputs": [
    {
     "data": {
      "text/plain": [
       "[1, 2, [3, 4, 5, 6], 9]"
      ]
     },
     "execution_count": 14,
     "metadata": {},
     "output_type": "execute_result"
    }
   ],
   "source": [
    "#add sublist [7,8] after 6\n",
    "#input\n",
    "l2 = [1,2,[3,4,5,6],9]\n",
    "l2\n",
    "#output\n",
    "#[1,2,[3,4,5,6,[7,8]],9]"
   ]
  },
  {
   "cell_type": "code",
   "execution_count": 15,
   "id": "5c7eb8c6",
   "metadata": {},
   "outputs": [],
   "source": [
    "l2[2].append([7,8])"
   ]
  },
  {
   "cell_type": "code",
   "execution_count": 16,
   "id": "2c8757da",
   "metadata": {},
   "outputs": [
    {
     "name": "stdout",
     "output_type": "stream",
     "text": [
      "[1, 2, [3, 4, 5, 6, [7, 8]], 9]\n"
     ]
    }
   ],
   "source": [
    "print(l2)"
   ]
  },
  {
   "cell_type": "markdown",
   "id": "76694b3c",
   "metadata": {},
   "source": [
    "# <center> Dictionary <center>"
   ]
  },
  {
   "cell_type": "markdown",
   "id": "98515c44",
   "metadata": {},
   "source": [
    "## Task-5"
   ]
  },
  {
   "cell_type": "code",
   "execution_count": 17,
   "id": "2fe2221a",
   "metadata": {},
   "outputs": [],
   "source": [
    "dict1 = { \n",
    "   \"april_batch\":{ \n",
    "      \"student\":{ \n",
    "         \"name\":\"Mike\",\n",
    "         \"marks\":{ \n",
    "            \"python\":80,\n",
    "            \"maths\":70\n",
    "         }\n",
    "      }\n",
    "   }\n",
    "}"
   ]
  },
  {
   "cell_type": "markdown",
   "id": "13d1104d",
   "metadata": {},
   "source": [
    "From the above dictionary, do the following tasks\n",
    "\n",
    "1. access \"Mike\"\n",
    "2. access 80\n",
    "3. change \"Mike\" to \"Your name\"\n",
    "4. add ML = 80 and DL = 80 inside marks"
   ]
  },
  {
   "cell_type": "code",
   "execution_count": 18,
   "id": "80e25b50",
   "metadata": {},
   "outputs": [
    {
     "data": {
      "text/plain": [
       "'Mike'"
      ]
     },
     "execution_count": 18,
     "metadata": {},
     "output_type": "execute_result"
    }
   ],
   "source": [
    "# access \"Mike\"\n",
    "dict1['april_batch']['student']['name']"
   ]
  },
  {
   "cell_type": "code",
   "execution_count": 19,
   "id": "767b7690",
   "metadata": {},
   "outputs": [
    {
     "data": {
      "text/plain": [
       "80"
      ]
     },
     "execution_count": 19,
     "metadata": {},
     "output_type": "execute_result"
    }
   ],
   "source": [
    "# access 80\n",
    "dict1['april_batch']['student']['marks']['python']"
   ]
  },
  {
   "cell_type": "code",
   "execution_count": 20,
   "id": "18c4ec27",
   "metadata": {},
   "outputs": [],
   "source": [
    "# change \"Mike\" to \"Your name\"\n",
    "dict1['april_batch']['student']['name'] = 'Daniel'"
   ]
  },
  {
   "cell_type": "code",
   "execution_count": 21,
   "id": "449ac09d",
   "metadata": {},
   "outputs": [
    {
     "data": {
      "text/plain": [
       "'Daniel'"
      ]
     },
     "execution_count": 21,
     "metadata": {},
     "output_type": "execute_result"
    }
   ],
   "source": [
    "dict1['april_batch']['student']['name']"
   ]
  },
  {
   "cell_type": "code",
   "execution_count": 22,
   "id": "abae1f1f",
   "metadata": {},
   "outputs": [],
   "source": [
    "# add ML = 80 and DL = 80 inside marks\n",
    "dict1['april_batch']['student']['marks']['ML']= 80\n",
    "dict1['april_batch']['student']['marks']['DL']= 80"
   ]
  },
  {
   "cell_type": "code",
   "execution_count": 23,
   "id": "e7291fba",
   "metadata": {},
   "outputs": [
    {
     "data": {
      "text/plain": [
       "{'april_batch': {'student': {'name': 'Daniel',\n",
       "   'marks': {'python': 80, 'maths': 70, 'ML': 80, 'DL': 80}}}}"
      ]
     },
     "execution_count": 23,
     "metadata": {},
     "output_type": "execute_result"
    }
   ],
   "source": [
    "dict1"
   ]
  },
  {
   "cell_type": "markdown",
   "id": "786d50e7",
   "metadata": {},
   "source": [
    "# <center> Tuples <center>"
   ]
  },
  {
   "cell_type": "markdown",
   "id": "d4b91724",
   "metadata": {},
   "source": [
    "## Task6 - Add and remove the elements from a tuple. (Refer workaroud to modify the tuples)"
   ]
  },
  {
   "cell_type": "code",
   "execution_count": 24,
   "id": "4bf6905d",
   "metadata": {},
   "outputs": [
    {
     "name": "stdout",
     "output_type": "stream",
     "text": [
      "(1, 2, 3, 4, 5, 6, 7, 8, 9)\n",
      "<class 'tuple'>\n"
     ]
    }
   ],
   "source": [
    "tup= (1,2,3,4,5,6,7,8,9)\n",
    "print(tup)\n",
    "print(type(tup))"
   ]
  },
  {
   "cell_type": "code",
   "execution_count": 25,
   "id": "70420025",
   "metadata": {},
   "outputs": [
    {
     "data": {
      "text/plain": [
       "[1, 2, 3, 4, 5, 6, 7, 8, 9]"
      ]
     },
     "execution_count": 25,
     "metadata": {},
     "output_type": "execute_result"
    }
   ],
   "source": [
    "# add 10 and remove 9 from tuple\n",
    "lst= list(tup)\n",
    "lst"
   ]
  },
  {
   "cell_type": "code",
   "execution_count": 26,
   "id": "f875bd5f",
   "metadata": {},
   "outputs": [
    {
     "data": {
      "text/plain": [
       "[1, 2, 3, 4, 5, 6, 7, 8]"
      ]
     },
     "execution_count": 26,
     "metadata": {},
     "output_type": "execute_result"
    }
   ],
   "source": [
    "lst.pop()\n",
    "lst"
   ]
  },
  {
   "cell_type": "code",
   "execution_count": 27,
   "id": "31e8acea",
   "metadata": {},
   "outputs": [
    {
     "data": {
      "text/plain": [
       "[1, 2, 3, 4, 5, 6, 7, 8, 10]"
      ]
     },
     "execution_count": 27,
     "metadata": {},
     "output_type": "execute_result"
    }
   ],
   "source": [
    "lst.append(10)\n",
    "lst"
   ]
  },
  {
   "cell_type": "code",
   "execution_count": 28,
   "id": "786adc76",
   "metadata": {},
   "outputs": [],
   "source": [
    "tup1= tuple(lst)"
   ]
  },
  {
   "cell_type": "code",
   "execution_count": 29,
   "id": "d7c8ed29",
   "metadata": {},
   "outputs": [
    {
     "data": {
      "text/plain": [
       "(1, 2, 3, 4, 5, 6, 7, 8, 10)"
      ]
     },
     "execution_count": 29,
     "metadata": {},
     "output_type": "execute_result"
    }
   ],
   "source": [
    "tup1"
   ]
  },
  {
   "cell_type": "markdown",
   "id": "4c103b65",
   "metadata": {},
   "source": [
    "# <center> Sets <center>"
   ]
  },
  {
   "cell_type": "markdown",
   "id": "48a5d7aa",
   "metadata": {},
   "source": [
    "## Task7 - go through other inbuilt methods like\n",
    "1) difference() 2) symmetric_difference()"
   ]
  },
  {
   "cell_type": "code",
   "execution_count": 30,
   "id": "672b7593",
   "metadata": {},
   "outputs": [
    {
     "name": "stdout",
     "output_type": "stream",
     "text": [
      "{1, 2, 3, 4, 5}\n",
      "{4, 5, 6, 7, 8}\n"
     ]
    }
   ],
   "source": [
    "set1 = {1,2,3,4,5}\n",
    "set2 = {4,5,6,7,8}\n",
    "print(set1)\n",
    "print(set2)"
   ]
  },
  {
   "cell_type": "code",
   "execution_count": 31,
   "id": "680f7e00",
   "metadata": {},
   "outputs": [
    {
     "data": {
      "text/plain": [
       "{6, 7, 8}"
      ]
     },
     "execution_count": 31,
     "metadata": {},
     "output_type": "execute_result"
    }
   ],
   "source": [
    "# difference\n",
    "set3= set2.difference(set1)\n",
    "set3"
   ]
  },
  {
   "cell_type": "code",
   "execution_count": 32,
   "id": "b782cd7f",
   "metadata": {},
   "outputs": [
    {
     "data": {
      "text/plain": [
       "{1, 2, 3, 6, 7, 8}"
      ]
     },
     "execution_count": 32,
     "metadata": {},
     "output_type": "execute_result"
    }
   ],
   "source": [
    "# symmetric_difference()\n",
    "set4= set2.symmetric_difference(set1)\n",
    "set4"
   ]
  },
  {
   "cell_type": "markdown",
   "id": "f5d75837",
   "metadata": {},
   "source": [
    "## Task8 - Make a table of all the In-built data structures and Point out the differences one by one"
   ]
  },
  {
   "cell_type": "markdown",
   "id": "fbb7204c",
   "metadata": {},
   "source": [
    "#### List\n",
    "- A list is an ordered sequence of elements. \n",
    "- It is a non-scalar data structure and mutable in nature. \n",
    "- A list can contain distinct data types in contrast to arrays storing elements belonging to the same data types.\n",
    "- Lists can be accessed by the help of the index by enclosing index within square brackets."
   ]
  },
  {
   "cell_type": "markdown",
   "id": "37e22071",
   "metadata": {},
   "source": [
    "#### Tuples\n",
    "- It is also a non-scalar type defined in Python. \n",
    "- Just like lists, it is also an ordered sequence of characters but tuples are immutable by nature. This means any modification is not allowed with this data structure.\n",
    "- Elements can be heterogeneous or homogenous nature separated by commas within the parenthesis."
   ]
  },
  {
   "cell_type": "markdown",
   "id": "6f9ea982",
   "metadata": {},
   "source": [
    "#### Sets\n",
    "- It is an unordered collection of objects without any duplicates. \n",
    "- This can be done by enclosing all the elements within curly braces. \n",
    "- We can also form sets by using type casting via a keyword “set”.\n",
    "- Elements of a set must of immutable data types. \n",
    "- Set doesn’t support indexing, slicing, concatenation & replication. \n",
    "- We can iterate over elements using the index."
   ]
  },
  {
   "cell_type": "markdown",
   "id": "5b9046b9",
   "metadata": {},
   "source": [
    "#### Dictionary\n",
    "- A dictionary is an unordered sequence of key-value pairs. \n",
    "- Indices can be of any immutable type and are called keys. \n",
    "- This is also specified within curly braces.\n",
    "- We can access the values by the help of unique keys associated with them."
   ]
  },
  {
   "cell_type": "markdown",
   "id": "b1ba749e",
   "metadata": {},
   "source": [
    "# <center> IF, ELIF and ELSE <center>"
   ]
  },
  {
   "cell_type": "markdown",
   "id": "634599c1",
   "metadata": {},
   "source": [
    "## Task9\n",
    "- Ask 2 numbers from users and store it in num1 and num2\n",
    "- Ask user to press 1 for addition,2 for subtraction,3 for multiplication and 4 for division\n",
    "- based on number given by user do the math operation"
   ]
  },
  {
   "cell_type": "code",
   "execution_count": 34,
   "id": "6e759fb6",
   "metadata": {},
   "outputs": [
    {
     "name": "stdout",
     "output_type": "stream",
     "text": [
      "Enter First number: 10\n",
      "Enter Second number: 5\n",
      "press 1 for addition,2 for subtraction,3 for multiplication and 4 for division: 3\n",
      "10 3 5 : 50\n"
     ]
    }
   ],
   "source": [
    "num1= int(input('Enter First number: '))\n",
    "num2= int(input('Enter Second number: '))\n",
    "\n",
    "Operation= int(input('press 1 for addition,2 for subtraction,3 for multiplication and 4 for division: '))\n",
    "\n",
    "result= 0\n",
    "    \n",
    "if Operation== 1:\n",
    "    result = num1+num2\n",
    "\n",
    "elif Operation==2:\n",
    "    result= num1-num2\n",
    "\n",
    "elif Operation==3:\n",
    "    result= num1*num2\n",
    "\n",
    "elif Operation==4:\n",
    "    result= num1/num2\n",
    "\n",
    "else:\n",
    "    print('Please enter a valid number between 1 and 4')\n",
    "    \n",
    "print(num1, Operation, num2,':',result)"
   ]
  },
  {
   "cell_type": "markdown",
   "id": "f3183623",
   "metadata": {},
   "source": [
    "# <center> Loops <center>"
   ]
  },
  {
   "cell_type": "markdown",
   "id": "78923511",
   "metadata": {},
   "source": [
    "## Task 10.1 = what is the usage of continue wiith an example."
   ]
  },
  {
   "cell_type": "code",
   "execution_count": 35,
   "id": "24b5d920",
   "metadata": {},
   "outputs": [
    {
     "name": "stdout",
     "output_type": "stream",
     "text": [
      "1\n",
      "2\n",
      "4\n",
      "5\n",
      "6\n",
      "7\n",
      "8\n",
      "9\n"
     ]
    }
   ],
   "source": [
    "# The continue keyword is used to end the current iteration in a for loop (or a while loop), and continues to the next iteration.\n",
    "# example--->\n",
    "i = 0\n",
    "while i < 9:\n",
    "  i += 1\n",
    "  if i == 3:\n",
    "    continue\n",
    "  print(i)"
   ]
  },
  {
   "cell_type": "markdown",
   "id": "705ff77d",
   "metadata": {},
   "source": [
    "## Task 10.2 What is pass keyword, with example."
   ]
  },
  {
   "cell_type": "code",
   "execution_count": 36,
   "id": "d499d215",
   "metadata": {},
   "outputs": [
    {
     "name": "stdout",
     "output_type": "stream",
     "text": [
      "b\n",
      "c\n",
      "d\n"
     ]
    }
   ],
   "source": [
    "# The pass statement is a null statement. But the difference between pass and comment is that comment is ignored by the \n",
    "# interpreter whereas pass is not ignored. \n",
    "\n",
    "\n",
    "li =['a', 'b', 'c', 'd']\n",
    " \n",
    "for i in li:\n",
    "    if(i =='a'):\n",
    "        pass\n",
    "    else:\n",
    "        print(i)"
   ]
  },
  {
   "cell_type": "markdown",
   "id": "b730ed5f",
   "metadata": {},
   "source": [
    "## Task10\n",
    "- Using while loop print numbers from 10 to 1\n",
    "- Try using for loop to loop over tuples,sets and dictionaries"
   ]
  },
  {
   "cell_type": "code",
   "execution_count": 37,
   "id": "d879e7e8",
   "metadata": {},
   "outputs": [
    {
     "name": "stdout",
     "output_type": "stream",
     "text": [
      "10\n",
      "9\n",
      "8\n",
      "7\n",
      "6\n",
      "5\n",
      "4\n",
      "3\n",
      "2\n",
      "1\n"
     ]
    }
   ],
   "source": [
    "# Using while loop print numbers from 10 to 1\n",
    "counter = 10\n",
    "while(counter>0):\n",
    "    print(counter)\n",
    "    counter-=1"
   ]
  },
  {
   "cell_type": "code",
   "execution_count": 38,
   "id": "53bfd9ae",
   "metadata": {},
   "outputs": [
    {
     "name": "stdout",
     "output_type": "stream",
     "text": [
      "<class 'tuple'>\n",
      "1\n",
      "2\n",
      "3\n",
      "4\n",
      "5\n"
     ]
    }
   ],
   "source": [
    "# Try using for loop to loop over tuples,sets and dictionaries\n",
    "\n",
    "tup= (1,2,3,4,5)\n",
    "print(type(tup))\n",
    "\n",
    "for i in tup:\n",
    "    print(i)"
   ]
  },
  {
   "cell_type": "code",
   "execution_count": 39,
   "id": "afee21be",
   "metadata": {},
   "outputs": [
    {
     "name": "stdout",
     "output_type": "stream",
     "text": [
      "<class 'set'>\n",
      "1\n",
      "2\n",
      "3\n",
      "4\n",
      "5\n"
     ]
    }
   ],
   "source": [
    "st= {1,2,3,4,5}\n",
    "print(type(st))\n",
    "\n",
    "for i in st:\n",
    "    print(i)"
   ]
  },
  {
   "cell_type": "code",
   "execution_count": 40,
   "id": "b79813cb",
   "metadata": {},
   "outputs": [
    {
     "name": "stdout",
     "output_type": "stream",
     "text": [
      "<class 'dict'>\n",
      "a 1\n",
      "b 2\n",
      "c 3\n",
      "d 4\n",
      "e 5\n"
     ]
    }
   ],
   "source": [
    "dct= {'a':1, 'b':2, 'c':3, 'd':4, 'e':5}\n",
    "print(type(dct))\n",
    "\n",
    "for i,j in dct.items():\n",
    "    print(i,j)"
   ]
  },
  {
   "cell_type": "markdown",
   "id": "6216eec3",
   "metadata": {},
   "source": [
    "# <center> Functions <center>"
   ]
  },
  {
   "cell_type": "markdown",
   "id": "5f119a0e",
   "metadata": {},
   "source": [
    "## Task 11.1\n",
    "Explain Return keyword with example."
   ]
  },
  {
   "cell_type": "markdown",
   "id": "47a101cc",
   "metadata": {},
   "source": [
    "- A return statement is used to end the execution of the function call and “returns” the result (value of the expression following the return keyword) to the caller. \n",
    "- The statements after the return statements are not executed. \n",
    "- If the return statement is without any expression, then the special value None is returned. \n",
    "- Return statement can not be used outside the function."
   ]
  },
  {
   "cell_type": "code",
   "execution_count": 41,
   "id": "2edcf738",
   "metadata": {},
   "outputs": [
    {
     "ename": "SyntaxError",
     "evalue": "'return' outside function (<ipython-input-41-c67b541ddf23>, line 4)",
     "output_type": "error",
     "traceback": [
      "\u001b[1;36m  File \u001b[1;32m\"<ipython-input-41-c67b541ddf23>\"\u001b[1;36m, line \u001b[1;32m4\u001b[0m\n\u001b[1;33m    return 'Yes'\u001b[0m\n\u001b[1;37m    ^\u001b[0m\n\u001b[1;31mSyntaxError\u001b[0m\u001b[1;31m:\u001b[0m 'return' outside function\n"
     ]
    }
   ],
   "source": [
    "l= [1,2,3]\n",
    "for i in l:\n",
    "    if i == 2:\n",
    "        return 'Yes'"
   ]
  },
  {
   "cell_type": "code",
   "execution_count": 42,
   "id": "f3c3f46b",
   "metadata": {},
   "outputs": [],
   "source": [
    "l =[1,2,3]\n",
    "def fun(x):\n",
    "    m=[]\n",
    "    for i in x:\n",
    "        m.append(i**2)\n",
    "    return m"
   ]
  },
  {
   "cell_type": "code",
   "execution_count": 43,
   "id": "0d0bfa73",
   "metadata": {},
   "outputs": [
    {
     "data": {
      "text/plain": [
       "[1, 4, 9]"
      ]
     },
     "execution_count": 43,
     "metadata": {},
     "output_type": "execute_result"
    }
   ],
   "source": [
    "fun(l)"
   ]
  },
  {
   "cell_type": "markdown",
   "id": "47c5ac35",
   "metadata": {},
   "source": [
    "## Task11.2\n",
    "- Ask 2 numbers from users and store it in num1 and num2\n",
    "- Ask user to press 1 for addition,2 for subtraction,3 for multiplication and 4 for division\n",
    "- create 4 seperate functions for each operation (i.e. addition,subtraction,multiplication and division)\n",
    "- based on number given by user,call that perticular function and print the output"
   ]
  },
  {
   "cell_type": "code",
   "execution_count": 44,
   "id": "2ef63c34",
   "metadata": {},
   "outputs": [
    {
     "name": "stdout",
     "output_type": "stream",
     "text": [
      "Enter First number: 8\n",
      "Enter Second number: 3\n",
      "press 1 for addition,2 for subtraction,3 for multiplication and 4 for division: 2\n",
      "8 2 3 : 5\n"
     ]
    }
   ],
   "source": [
    "num1= int(input('Enter First number: '))\n",
    "num2= int(input('Enter Second number: '))\n",
    "\n",
    "Operation= int(input('press 1 for addition,2 for subtraction,3 for multiplication and 4 for division: '))\n",
    "\n",
    "result= 0\n",
    "    \n",
    "if Operation== 1:\n",
    "    result = num1+num2\n",
    "\n",
    "elif Operation==2:\n",
    "    result= num1-num2\n",
    "\n",
    "elif Operation==3:\n",
    "    result= num1*num2\n",
    "\n",
    "elif Operation==4:\n",
    "    result= num1/num2\n",
    "\n",
    "else:\n",
    "    print('Please enter a valid number between 1 and 4')\n",
    "    \n",
    "print(num1, Operation, num2,':',result)"
   ]
  },
  {
   "cell_type": "markdown",
   "id": "b6461aaa",
   "metadata": {},
   "source": [
    "# <center> Lambda,Map and Filter functions <center>"
   ]
  },
  {
   "cell_type": "markdown",
   "id": "35993a15",
   "metadata": {},
   "source": [
    "## Task10 : Go through\n",
    "- reduce()\n",
    "- zip()\n",
    "- enumerate()"
   ]
  },
  {
   "cell_type": "code",
   "execution_count": 45,
   "id": "cf8d376b",
   "metadata": {},
   "outputs": [
    {
     "name": "stdout",
     "output_type": "stream",
     "text": [
      "10\n"
     ]
    }
   ],
   "source": [
    "# Using reduce to find the sum of numbers in a list\n",
    "\n",
    "import functools\n",
    "nums = [0,1,2,3,4]\n",
    "\n",
    "print(functools.reduce(lambda a,b: a+b, nums))"
   ]
  },
  {
   "cell_type": "code",
   "execution_count": 46,
   "id": "06a53fcc",
   "metadata": {},
   "outputs": [
    {
     "name": "stdout",
     "output_type": "stream",
     "text": [
      "{1: 'a', 2: 'b', 3: 'c'}\n"
     ]
    }
   ],
   "source": [
    "# Using Zip function\n",
    "numbers= [1,2,3]\n",
    "letters= ['a','b','c']\n",
    "zipped= zip(numbers,letters)\n",
    "\n",
    "print(dict(zipped))"
   ]
  },
  {
   "cell_type": "code",
   "execution_count": 47,
   "id": "b730d6f8",
   "metadata": {},
   "outputs": [
    {
     "name": "stdout",
     "output_type": "stream",
     "text": [
      "(0, 1)\n",
      "(1, 2)\n",
      "(2, 3)\n",
      "(3, 4)\n",
      "(4, 5)\n"
     ]
    }
   ],
   "source": [
    "# using enumerate to get index and value.\n",
    "\n",
    "numbers= [1,2,3,4,5]\n",
    "\n",
    "for i in enumerate(numbers):\n",
    "    print(i)"
   ]
  },
  {
   "cell_type": "code",
   "execution_count": null,
   "id": "3ebc6239",
   "metadata": {},
   "outputs": [],
   "source": []
  }
 ],
 "metadata": {
  "kernelspec": {
   "display_name": "Python 3",
   "language": "python",
   "name": "python3"
  },
  "language_info": {
   "codemirror_mode": {
    "name": "ipython",
    "version": 3
   },
   "file_extension": ".py",
   "mimetype": "text/x-python",
   "name": "python",
   "nbconvert_exporter": "python",
   "pygments_lexer": "ipython3",
   "version": "3.8.8"
  }
 },
 "nbformat": 4,
 "nbformat_minor": 5
}
